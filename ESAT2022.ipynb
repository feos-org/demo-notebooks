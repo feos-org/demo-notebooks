{
  "nbformat": 4,
  "nbformat_minor": 0,
  "metadata": {
    "colab": {
      "name": "ESAT2022.ipynb",
      "provenance": [],
      "collapsed_sections": []
    },
    "kernelspec": {
      "name": "python3",
      "display_name": "Python 3"
    },
    "language_info": {
      "name": "python"
    }
  },
  "cells": [
    {
      "cell_type": "markdown",
      "source": [
        "# ESAT 2022 - FeO$_\\text{s}$ demonstration\n",
        "\n",
        "**Try it yourself! https://github.com/feos-org/demo/esat2022**"
      ],
      "metadata": {
        "id": "v_sSTopiyttj"
      }
    },
    {
      "cell_type": "markdown",
      "source": [
        "## General Workflow"
      ],
      "metadata": {
        "id": "lbFNhdLz48dR"
      }
    },
    {
      "cell_type": "code",
      "source": [
        "#@title Download FeO$_\\text{s}$ and parameter files\n",
        "!pip install feos\n",
        "!wget https://raw.githubusercontent.com/feos-org/feos/main/parameters/pcsaft/loetgeringlin2018.json\n",
        "!cat /proc/cpuinfo"
      ],
      "metadata": {
        "cellView": "form",
        "id": "dapdwKQ2VxkI"
      },
      "execution_count": null,
      "outputs": []
    },
    {
      "cell_type": "code",
      "source": [
        "#@title Import Python packages\n",
        "\n",
        "from feos.si import *     # SI units and constants\n",
        "from feos.eos import *    # equation of state objects\n",
        "from feos.pcsaft import * # parameter objects\n",
        "\n",
        "import numpy as np              # for arrays\n",
        "import matplotlib.pyplot as plt # plotting utilities\n",
        "import seaborn as sns\n",
        "sns.set_style(\"ticks\")\n",
        "sns.set_context(\"poster\")\n",
        "sns.set_palette(\"Dark2\")"
      ],
      "metadata": {
        "cellView": "form",
        "id": "hrVEmEkZyy-P"
      },
      "execution_count": null,
      "outputs": []
    },
    {
      "cell_type": "code",
      "source": [
        "#@title 1. Define Model\n",
        "parameters = PcSaftParameters.from_json(\n",
        "    [\"hexane\", \"toluene\"], \n",
        "    \"loetgeringlin2018.json\"\n",
        ")\n",
        "pcsaft = EquationOfState.pcsaft(parameters)"
      ],
      "metadata": {
        "id": "yQiXHrzvy6-m",
        "cellView": "form"
      },
      "execution_count": null,
      "outputs": []
    },
    {
      "cell_type": "code",
      "source": [
        "#@title 2. Define Thermodynamic Conditions\n",
        "temperature = 315.0 * KELVIN\n",
        "pressure = 2.0 * BAR\n",
        "x = np.array([0.5 , 0.5])\n",
        "state = State(\n",
        "    pcsaft, \n",
        "    temperature=temperature,\n",
        "    pressure=pressure,\n",
        "    molefracs=x,\n",
        ")\n",
        "state"
      ],
      "metadata": {
        "id": "tGzvIJ0O1BKh",
        "cellView": "form"
      },
      "execution_count": null,
      "outputs": []
    },
    {
      "cell_type": "code",
      "source": [
        "#@title 3. Compute Properties\n",
        "state.volume / (MILLI*METER)**3"
      ],
      "metadata": {
        "id": "4xgRQJS92DgI",
        "cellView": "form"
      },
      "execution_count": null,
      "outputs": []
    },
    {
      "cell_type": "markdown",
      "source": [
        "## Critical Points & Phase Equilibria"
      ],
      "metadata": {
        "id": "SbH7ydUT5No2"
      }
    },
    {
      "cell_type": "code",
      "source": [
        "#@title State at Critical Conditions\n",
        "state_cp = State.critical_point(\n",
        "    pcsaft, \n",
        "    moles=np.array([1.0, 1.0]) * MOL\n",
        ")\n",
        "state_cp"
      ],
      "metadata": {
        "id": "hFLFbGvq4lH9",
        "cellView": "form"
      },
      "execution_count": null,
      "outputs": []
    },
    {
      "cell_type": "code",
      "source": [
        "state_cp.pressure()"
      ],
      "metadata": {
        "id": "B3dfRw495qqi"
      },
      "execution_count": null,
      "outputs": []
    },
    {
      "cell_type": "code",
      "source": [
        "#@title Compute phase diagram\n",
        "phase_diagram = PhaseDiagram.binary_vle(\n",
        "    pcsaft,\n",
        "    500 * KELVIN,\n",
        "    npoints=251\n",
        ")"
      ],
      "metadata": {
        "cellView": "form",
        "id": "eGpxwMuM8i9U"
      },
      "execution_count": null,
      "outputs": []
    },
    {
      "cell_type": "code",
      "source": [
        "#@title Plot phase diagram\n",
        "KG_M3 = KILOGRAM / METER**3\n",
        "plt.figure(figsize=(12, 7))\n",
        "plt.plot(\n",
        "    phase_diagram.vapor.molefracs[:, 0],\n",
        "    phase_diagram.vapor.pressure / BAR\n",
        ")\n",
        "plt.plot(\n",
        "    phase_diagram.liquid.molefracs[:, 0],\n",
        "    phase_diagram.liquid.pressure / BAR\n",
        ")\n",
        "plt.ylabel(r\"$p$ / bar\")\n",
        "plt.xlabel(r\"$x_1$\")\n",
        "plt.xlim(0, 1)\n",
        "plt.ylim(12.0, 28.0);"
      ],
      "metadata": {
        "cellView": "form",
        "id": "Ka1pfF2_9WQi"
      },
      "execution_count": null,
      "outputs": []
    },
    {
      "cell_type": "code",
      "source": [
        "vle = PhaseEquilibrium.tp_flash(pcsaft, 500*KELVIN, 16*BAR, np.array([0.3, 0.7]) * MOL)\n",
        "vle"
      ],
      "metadata": {
        "id": "3S9d6ttz95Gd"
      },
      "execution_count": null,
      "outputs": []
    },
    {
      "cell_type": "code",
      "source": [
        "bubble = PhaseEquilibrium.bubble_point(\n",
        "    pcsaft, \n",
        "    500*KELVIN, \n",
        "    vle.liquid.molefracs,\n",
        ")\n",
        "bubble"
      ],
      "metadata": {
        "id": "Iois8APabuEu"
      },
      "execution_count": null,
      "outputs": []
    },
    {
      "cell_type": "code",
      "source": [
        "bubble.liquid.chemical_potential() - bubble.vapor.chemical_potential()"
      ],
      "metadata": {
        "id": "Xv8LUss3b-Te"
      },
      "execution_count": null,
      "outputs": []
    },
    {
      "cell_type": "code",
      "source": [
        "#@title Entropy scaling\n",
        "#todo"
      ],
      "metadata": {
        "cellView": "form",
        "id": "7g47J7WYeMqA"
      },
      "execution_count": null,
      "outputs": []
    },
    {
      "cell_type": "markdown",
      "source": [
        "## Classical Density Functional Theory (DFT)"
      ],
      "metadata": {
        "id": "vDHZn6Yzdwzf"
      }
    },
    {
      "cell_type": "code",
      "source": [
        "from feos.dft import *    # classical density function theory objects\n",
        "func = HelmholtzEnergyFunctional.pcsaft(parameters)"
      ],
      "metadata": {
        "id": "BerliB_RciIw"
      },
      "execution_count": null,
      "outputs": []
    },
    {
      "cell_type": "code",
      "source": [
        "#@title Surface tension\n",
        "#@markdown 1. compute VLE\n",
        "#@markdown 2. set initial density profile\n",
        "#@markdown 3. solve for equilibrium profile\n",
        "\n",
        "vle = PhaseEquilibrium.tp_flash(\n",
        "    func,\n",
        "    500 * KELVIN,\n",
        "    16 * BAR,\n",
        "    np.array([0.3, 0.7]) * MOL\n",
        ")\n",
        "interface = PlanarInterface.from_tanh(\n",
        "    vle, 1024, 100 * ANGSTROM, 500 * KELVIN\n",
        ").solve()"
      ],
      "metadata": {
        "cellView": "form",
        "id": "g15TC-jrd7Jb"
      },
      "execution_count": null,
      "outputs": []
    },
    {
      "cell_type": "code",
      "source": [
        "interface.surface_tension"
      ],
      "metadata": {
        "id": "gMQ11BUGfAqj"
      },
      "execution_count": null,
      "outputs": []
    },
    {
      "cell_type": "code",
      "source": [
        "#@title Density profiles\n",
        "KMOL_M3 = KILO * MOL / METER**3\n",
        "plt.figure(figsize=(12, 7))\n",
        "plt.plot(interface.z / ANGSTROM, (interface.density / KMOL_M3)[0], \n",
        "         label=\"{}\".format(parameters.pure_records[0].identifier.name))\n",
        "plt.plot(interface.z / ANGSTROM, (interface.density / KMOL_M3)[1],\n",
        "         label=\"{}\".format(parameters.pure_records[1].identifier.name))\n",
        "plt.xlabel(r\"$z$ / A\");\n",
        "plt.ylabel(r\"$\\rho$ / kmol / m$^3$\")\n",
        "plt.ylim(0, 5);\n",
        "plt.xlim(0, 100)\n",
        "plt.legend(frameon=False);"
      ],
      "metadata": {
        "cellView": "form",
        "id": "CPc9-OEDgFm0"
      },
      "execution_count": null,
      "outputs": []
    },
    {
      "cell_type": "code",
      "source": [
        "#@title Adsorption in pore\n",
        "potential = ExternalPotential.LJ93(3.0, 100.0, 0.08)\n",
        "\n",
        "pore = Pore1D(\n",
        "    geometry=Geometry.Cartesian, \n",
        "    pore_size=40 * ANGSTROM, \n",
        "    potential=potential\n",
        ")\n",
        "\n",
        "isotherm = Adsorption1D.equilibrium_isotherm(\n",
        "    func,\n",
        "    temperature=500 * KELVIN,\n",
        "    pressure=SIArray1.linspace(6*BAR, 22*BAR, 5),\n",
        "    pore=pore,\n",
        "    molefracs=np.array([0.5, 0.5])\n",
        ")"
      ],
      "metadata": {
        "cellView": "form",
        "id": "W_yxuPJdgamp"
      },
      "execution_count": null,
      "outputs": []
    },
    {
      "cell_type": "code",
      "source": [
        "#@title Adsorpted amount per surface\n",
        "plt.figure(figsize=(12, 7))\n",
        "plt.title(r\"$T$ = 500 K\")\n",
        "plt.plot(\n",
        "    isotherm.pressure/BAR, \n",
        "    isotherm.total_adsorption/(MICRO*MOL/METER**2)\n",
        ")\n",
        "plt.xlim(6, 22)\n",
        "plt.ylim(1, 12)\n",
        "plt.xlabel(r'$p$ / bar')\n",
        "plt.ylabel(r'$N$ /  $\\mu$mol / m$^2$');"
      ],
      "metadata": {
        "cellView": "form",
        "id": "yhQcG1jwpjHy"
      },
      "execution_count": null,
      "outputs": []
    },
    {
      "cell_type": "code",
      "source": [
        "#@title Density profiles\n",
        "KMOL_M3 = KILO * MOL / METER**3\n",
        "i = 2 #@param {type:\"slider\", min:0, max:6, step:1}\n",
        "z = isotherm.profiles[0].z / ANGSTROM\n",
        "p = isotherm.pressure / BAR\n",
        "total_adsorption = isotherm.total_adsorption / (MICRO * MOL / METER**2)\n",
        "\n",
        "# figure\n",
        "fig, ax = plt.subplots(\n",
        "    1, 2, figsize=(15, 5), \n",
        "    gridspec_kw={'wspace': 0.25}\n",
        ")\n",
        "\n",
        "# isotherm\n",
        "ax[0].plot(p, total_adsorption)\n",
        "ax[0].plot(p[i], total_adsorption[i], marker=\"s\", clip_on=False)\n",
        "ax[0].set_xlim(6, 22)\n",
        "ax[0].set_xticks(range(6, 23, 4))\n",
        "ax[0].set_ylim(1, 12)\n",
        "ax[0].set_xlabel(r'$p$ / bar')\n",
        "ax[0].set_ylabel(r'$N$ /  $\\mu$mol / m$^2$');\n",
        "\n",
        "# density profile\n",
        "ax[1].plot(z, (isotherm.profiles[i].density / KMOL_M3)[0], \n",
        "         label=\"{}\".format(parameters.pure_records[0].identifier.name))\n",
        "ax[1].plot(z, (isotherm.profiles[i].density / KMOL_M3)[1], \n",
        "         label=\"{}\".format(parameters.pure_records[1].identifier.name))\n",
        "ax[1].set_xlim(0, 20)\n",
        "ax[1].set_ylim(0, 12)\n",
        "ax[1].set_xlabel(r\"$z$ / A\")\n",
        "ax[1].set_ylabel(r\"$\\rho$ / kmol / m$^3$\")\n",
        "ax[1].legend(frameon=False, loc=\"upper left\");"
      ],
      "metadata": {
        "cellView": "form",
        "id": "xVDemt4TjqUf"
      },
      "execution_count": null,
      "outputs": []
    }
  ]
}