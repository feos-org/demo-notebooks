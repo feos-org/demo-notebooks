{
 "cells": [
  {
   "cell_type": "markdown",
   "metadata": {
    "id": "v_sSTopiyttj"
   },
   "source": [
    "# ESAT 2022 - FeO$_\\text{s}$ demonstration\n",
    "\n",
    "**You can find this notebook in the `feos-org/demo-notebooks/` repositiory on github.**"
   ]
  },
  {
   "cell_type": "code",
   "execution_count": null,
   "metadata": {
    "cellView": "form",
    "id": "dapdwKQ2VxkI"
   },
   "outputs": [],
   "source": [
    "#@title Download FeO$_\\text{s}$ and parameter files\n",
    "#!pip install feos\n",
    "!wget https://raw.githubusercontent.com/feos-org/feos/main/parameters/pcsaft/loetgeringlin2018.json"
   ]
  },
  {
   "cell_type": "code",
   "execution_count": null,
   "metadata": {
    "cellView": "form",
    "id": "hrVEmEkZyy-P"
   },
   "outputs": [],
   "source": [
    "#@title Import Python packages\n",
    "\n",
    "from feos.si import *     # SI units and constants\n",
    "from feos.eos import *    # equation of state objects\n",
    "from feos.pcsaft import * # parameter objects\n",
    "\n",
    "import numpy as np              # for arrays\n",
    "import matplotlib.pyplot as plt # plotting utilities\n",
    "import seaborn as sns\n",
    "sns.set_style(\"ticks\")\n",
    "sns.set_context(\"poster\")\n",
    "sns.set_palette(\"Dark2\")"
   ]
  },
  {
   "cell_type": "markdown",
   "metadata": {},
   "source": [
    "## Python Class as Equation of State"
   ]
  },
  {
   "cell_type": "code",
   "execution_count": null,
   "metadata": {},
   "outputs": [],
   "source": [
    "#@title Python class\n",
    "\n",
    "class PengRobinson:\n",
    "    def __init__(self, critical_temperature, critical_pressure, acentric_factor, molar_weight):\n",
    "        self.tc = critical_temperature / KELVIN\n",
    "        self.pc = critical_pressure / PASCAL\n",
    "        self.omega = acentric_factor\n",
    "        self.mw = molar_weight / GRAM * MOL\n",
    "        self.a_r = 0.45724 * critical_temperature**2 * RGAS / critical_pressure / ANGSTROM**3 / NAV / KELVIN\n",
    "        self.b = 0.07780 * critical_temperature * RGAS / critical_pressure / ANGSTROM**3 / NAV\n",
    "        self.kappa = 0.37464 + (1.54226 - 0.26992 * acentric_factor) * acentric_factor\n",
    "    \n",
    "    def components(self) -> int: return 1\n",
    "    def subset(self, i: [int]): return self\n",
    "    def molar_weight(self) -> SIArray1: return SIArray1(self.mw * GRAM / MOL)\n",
    "    def max_density(self, moles:[float]) -> float:\n",
    "        b = np.sum(moles * self.b) / np.sum(moles)\n",
    "        return 0.9 / b \n",
    "    \n",
    "    def helmholtz_energy(self, state):\n",
    "        print(f'Data type: {type(state.temperature)}')\n",
    "        print(f'T: {state.temperature}')\n",
    "        print(f'V: {state.volume}')\n",
    "        print(f'N: {sum(state.moles)}')\n",
    "        print('')\n",
    "        \n",
    "        ak = ((1.0 - np.sqrt(state.temperature / self.tc)) * self.kappa + 1.0)**2 * self.a_r\n",
    "        rho = np.sum(state.partial_density)\n",
    "        a = np.sum(state.moles) * (\n",
    "            -np.log(1.0 - self.b * rho) \n",
    "            - ak / (self.b * np.sqrt(2.0) * 2.0 * state.temperature) \n",
    "                * np.log(\n",
    "                    (np.sqrt(2.0) - 1.0 + self.b * rho) / \n",
    "                    (np.sqrt(2.0) + 1.0 - self.b * rho)\n",
    "                )\n",
    "        )\n",
    "        return a"
   ]
  },
  {
   "cell_type": "code",
   "execution_count": null,
   "metadata": {},
   "outputs": [],
   "source": [
    "# propane\n",
    "pr = PengRobinson(\n",
    "    critical_temperature=369.96 * KELVIN, \n",
    "    critical_pressure=42.5 * BAR, \n",
    "    acentric_factor=0.153, \n",
    "    molar_weight=44.0962 * GRAM / MOL\n",
    ")\n",
    "# Inject Python class into FeOs\n",
    "eos_py = EquationOfState.python(pr)"
   ]
  },
  {
   "cell_type": "code",
   "execution_count": null,
   "metadata": {},
   "outputs": [],
   "source": [
    "# define thermodynamic conditions\n",
    "# here: natural variables of A\n",
    "state = State(\n",
    "    eos_py, \n",
    "    temperature=300*KELVIN, \n",
    "    volume=1e3 * ANGSTROM**3, \n",
    "    total_moles=1 / NAV\n",
    ")\n",
    "state"
   ]
  },
  {
   "cell_type": "code",
   "execution_count": null,
   "metadata": {},
   "outputs": [],
   "source": [
    "state.molar_helmholtz_energy()\n",
    "#state.pressure()\n",
    "#state.molar_entropy()\n",
    "#state.chemical_potential()[0]\n",
    "#state.c_p();"
   ]
  },
  {
   "cell_type": "markdown",
   "metadata": {},
   "source": [
    "## PC-SAFT"
   ]
  },
  {
   "cell_type": "code",
   "execution_count": null,
   "metadata": {
    "cellView": "form",
    "id": "yQiXHrzvy6-m"
   },
   "outputs": [],
   "source": [
    "#@title 1. Define Model\n",
    "parameters = PcSaftParameters.from_json(\n",
    "    [\"hexane\", \"toluene\"], \n",
    "    \"loetgeringlin2018.json\"\n",
    ")\n",
    "pcsaft = EquationOfState.pcsaft(parameters)"
   ]
  },
  {
   "cell_type": "code",
   "execution_count": null,
   "metadata": {
    "cellView": "form",
    "id": "tGzvIJ0O1BKh"
   },
   "outputs": [],
   "source": [
    "#@title 2. Define Thermodynamic Conditions\n",
    "state = State(\n",
    "    pcsaft, \n",
    "    temperature=315.0 * KELVIN,\n",
    "    pressure=2.0 * BAR,\n",
    "    molefracs=np.array([0.5 , 0.5]),\n",
    "    total_moles=150*MOL\n",
    ")\n",
    "state"
   ]
  },
  {
   "cell_type": "code",
   "execution_count": null,
   "metadata": {
    "cellView": "form",
    "id": "4xgRQJS92DgI"
   },
   "outputs": [],
   "source": [
    "#@title 3. Compute Properties\n",
    "\n",
    "state.chemical_potential() # array valued"
   ]
  },
  {
   "cell_type": "markdown",
   "metadata": {
    "id": "SbH7ydUT5No2"
   },
   "source": [
    "## Critical Points & Phase Equilibria"
   ]
  },
  {
   "cell_type": "code",
   "execution_count": null,
   "metadata": {
    "cellView": "form",
    "id": "hFLFbGvq4lH9"
   },
   "outputs": [],
   "source": [
    "#@title State at Critical Conditions\n",
    "state_cp = State.critical_point(\n",
    "    pcsaft, \n",
    "    moles=np.array([1.0, 1.0]) * MOL\n",
    ")\n",
    "state_cp"
   ]
  },
  {
   "cell_type": "code",
   "execution_count": null,
   "metadata": {
    "id": "B3dfRw495qqi"
   },
   "outputs": [],
   "source": [
    "state_cp.pressure()"
   ]
  },
  {
   "cell_type": "code",
   "execution_count": null,
   "metadata": {
    "cellView": "form",
    "id": "eGpxwMuM8i9U"
   },
   "outputs": [],
   "source": [
    "#@title Compute phase diagram\n",
    "phase_diagram = PhaseDiagram.binary_vle(\n",
    "    pcsaft,\n",
    "    350 * KELVIN,\n",
    "    npoints=251\n",
    ")"
   ]
  },
  {
   "cell_type": "code",
   "execution_count": null,
   "metadata": {
    "cellView": "form",
    "id": "Ka1pfF2_9WQi"
   },
   "outputs": [],
   "source": [
    "#@title Plot phase diagram\n",
    "KG_M3 = KILOGRAM / METER**3\n",
    "plt.figure(figsize=(12, 7))\n",
    "plt.title(f'hexane(1), toluene(2), T = 350 K')\n",
    "plt.plot(\n",
    "    phase_diagram.vapor.molefracs[:, 0],\n",
    "    phase_diagram.vapor.pressure / BAR\n",
    ")\n",
    "plt.plot(\n",
    "    phase_diagram.liquid.molefracs[:, 0],\n",
    "    phase_diagram.liquid.pressure / BAR\n",
    ")\n",
    "plt.ylabel(r\"$p$ / bar\")\n",
    "plt.xlabel(r\"$x_1$\")\n",
    "plt.xlim(0, 1)\n",
    "plt.ylim(0.2, 1.4);"
   ]
  },
  {
   "cell_type": "code",
   "execution_count": null,
   "metadata": {},
   "outputs": [],
   "source": [
    "phase_diagram.states[0]"
   ]
  },
  {
   "cell_type": "code",
   "execution_count": null,
   "metadata": {
    "cellView": "form",
    "id": "7g47J7WYeMqA"
   },
   "outputs": [],
   "source": [
    "#@title Entropy scaling\n",
    "entropies = []\n",
    "viscosities = []\n",
    "x = np.array([0.3, 0.7])\n",
    "for p in SIArray1.linspace(0.1 * BAR, 5 * BAR, 10):\n",
    "    for x1 in np.linspace(0.1, 0.9, 10):\n",
    "        state = State(pcsaft, 350 * KELVIN, pressure=p, molefracs=np.array([x1, 1-x1]))\n",
    "        entropies.append(state.molar_entropy(Contributions.ResidualNvt) / RGAS)\n",
    "        viscosities.append(state.ln_viscosity_reduced())\n",
    "    \n",
    "plt.figure(figsize=(12, 7))\n",
    "plt.title('T = 350 K, p = [0.1, 5] bar, x1 = [0.1, 0.9]')\n",
    "#plt.plot(sorted(entropies, reverse=True), sorted(viscosities), '-')\n",
    "plt.plot(entropies, viscosities, 'o:')\n",
    "plt.xlim(-6, 0.1)\n",
    "plt.ylim(-1.5, 3)\n",
    "plt.xlabel(r'$s^\\mathrm{res} / R$')\n",
    "plt.ylabel(r'$\\ln \\frac{\\eta}{\\eta^\\mathrm{CE}}$');"
   ]
  },
  {
   "cell_type": "markdown",
   "metadata": {
    "id": "vDHZn6Yzdwzf"
   },
   "source": [
    "## Classical Density Functional Theory (DFT)"
   ]
  },
  {
   "cell_type": "code",
   "execution_count": null,
   "metadata": {
    "id": "BerliB_RciIw"
   },
   "outputs": [],
   "source": [
    "from feos.dft import *    # classical density function theory objects\n",
    "parameters = PcSaftParameters.from_json(\n",
    "    [\"hexane\", \"toluene\"], \n",
    "    \"loetgeringlin2018.json\"\n",
    ")\n",
    "func = HelmholtzEnergyFunctional.pcsaft(parameters)"
   ]
  },
  {
   "cell_type": "code",
   "execution_count": null,
   "metadata": {
    "cellView": "form",
    "id": "g15TC-jrd7Jb"
   },
   "outputs": [],
   "source": [
    "#@title Surface tension\n",
    "#@markdown 1. compute VLE\n",
    "#@markdown 2. set initial density profile\n",
    "#@markdown 3. solve for equilibrium profile\n",
    "\n",
    "vle = PhaseEquilibrium.tp_flash(\n",
    "    func,\n",
    "    500 * KELVIN,\n",
    "    16 * BAR,\n",
    "    np.array([0.3, 0.7]) * MOL\n",
    ")\n",
    "interface = PlanarInterface.from_tanh(\n",
    "    vle, 1024, 100 * ANGSTROM, 500 * KELVIN\n",
    ").solve()"
   ]
  },
  {
   "cell_type": "code",
   "execution_count": null,
   "metadata": {
    "id": "gMQ11BUGfAqj"
   },
   "outputs": [],
   "source": [
    "interface.surface_tension"
   ]
  },
  {
   "cell_type": "code",
   "execution_count": null,
   "metadata": {
    "cellView": "form",
    "id": "CPc9-OEDgFm0"
   },
   "outputs": [],
   "source": [
    "#@title Density profiles\n",
    "KMOL_M3 = KILO * MOL / METER**3\n",
    "plt.figure(figsize=(12, 7))\n",
    "plt.plot(interface.z / ANGSTROM, (interface.density / KMOL_M3)[0], \n",
    "         label=\"{}\".format(parameters.pure_records[0].identifier.name))\n",
    "plt.plot(interface.z / ANGSTROM, (interface.density / KMOL_M3)[1],\n",
    "         label=\"{}\".format(parameters.pure_records[1].identifier.name))\n",
    "plt.xlabel(r\"$z$ / A\");\n",
    "plt.ylabel(r\"$\\rho$ / kmol / m$^3$\")\n",
    "plt.ylim(0, 5);\n",
    "plt.xlim(0, 100)\n",
    "plt.legend(frameon=False);"
   ]
  },
  {
   "cell_type": "code",
   "execution_count": null,
   "metadata": {
    "cellView": "form",
    "id": "W_yxuPJdgamp"
   },
   "outputs": [],
   "source": [
    "#@title Adsorption in pore\n",
    "potential = ExternalPotential.LJ93(3.0, 100.0, 0.08)\n",
    "\n",
    "pore = Pore1D(\n",
    "    geometry=Geometry.Cartesian, \n",
    "    pore_size=40 * ANGSTROM, \n",
    "    potential=potential\n",
    ")\n",
    "\n",
    "isotherm = Adsorption1D.equilibrium_isotherm(\n",
    "    func,\n",
    "    temperature=500 * KELVIN,\n",
    "    pressure=SIArray1.linspace(6*BAR, 22.0001*BAR, 5),\n",
    "    pore=pore,\n",
    "    molefracs=np.array([0.5, 0.5])\n",
    ")"
   ]
  },
  {
   "cell_type": "code",
   "execution_count": null,
   "metadata": {
    "cellView": "form",
    "id": "yhQcG1jwpjHy"
   },
   "outputs": [],
   "source": [
    "#@title Adsorpted amount per surface\n",
    "plt.figure(figsize=(12, 7))\n",
    "plt.title(r\"$T$ = 500 K\")\n",
    "plt.plot(\n",
    "    isotherm.pressure/BAR, \n",
    "    isotherm.total_adsorption/(MICRO*MOL/METER**2)\n",
    ")\n",
    "plt.xlim(6, 22)\n",
    "plt.ylim(1, 12)\n",
    "plt.xlabel(r'$p$ / bar')\n",
    "plt.ylabel(r'$N$ /  $\\mu$mol / m$^2$');"
   ]
  },
  {
   "cell_type": "code",
   "execution_count": null,
   "metadata": {
    "cellView": "form",
    "id": "xVDemt4TjqUf"
   },
   "outputs": [],
   "source": [
    "#@title Density profiles\n",
    "KMOL_M3 = KILO * MOL / METER**3\n",
    "i = 6 #@param {type:\"slider\", min:0, max:6, step:1}\n",
    "z = isotherm.profiles[0].z / ANGSTROM\n",
    "p = isotherm.pressure / BAR\n",
    "total_adsorption = isotherm.total_adsorption / (MICRO * MOL / METER**2)\n",
    "\n",
    "# figure\n",
    "fig, ax = plt.subplots(\n",
    "    1, 2, figsize=(15, 5), \n",
    "    gridspec_kw={'wspace': 0.25}\n",
    ")\n",
    "\n",
    "# isotherm\n",
    "ax[0].plot(p, total_adsorption)\n",
    "ax[0].plot(p[i], total_adsorption[i], marker=\"s\", clip_on=False)\n",
    "ax[0].set_xlim(6, 22)\n",
    "ax[0].set_xticks(range(6, 23, 4))\n",
    "ax[0].set_ylim(1, 12)\n",
    "ax[0].set_xlabel(r'$p$ / bar')\n",
    "ax[0].set_ylabel(r'$N$ /  $\\mu$mol / m$^2$');\n",
    "\n",
    "# density profile\n",
    "ax[1].plot(z, (isotherm.profiles[i].density / KMOL_M3)[0], \n",
    "         label=\"{}\".format(parameters.pure_records[0].identifier.name))\n",
    "ax[1].plot(z, (isotherm.profiles[i].density / KMOL_M3)[1], \n",
    "         label=\"{}\".format(parameters.pure_records[1].identifier.name))\n",
    "ax[1].set_xlim(0, 20)\n",
    "ax[1].set_ylim(0, 12)\n",
    "ax[1].set_xlabel(r\"$z$ / A\")\n",
    "ax[1].set_ylabel(r\"$\\rho$ / kmol / m$^3$\")\n",
    "ax[1].legend(frameon=False, loc=\"upper left\");"
   ]
  }
 ],
 "metadata": {
  "colab": {
   "collapsed_sections": [],
   "name": "ESAT2022.ipynb",
   "provenance": []
  },
  "kernelspec": {
   "display_name": "Python 3 (ipykernel)",
   "language": "python",
   "name": "python3"
  },
  "language_info": {
   "codemirror_mode": {
    "name": "ipython",
    "version": 3
   },
   "file_extension": ".py",
   "mimetype": "text/x-python",
   "name": "python",
   "nbconvert_exporter": "python",
   "pygments_lexer": "ipython3",
   "version": "3.9.7"
  }
 },
 "nbformat": 4,
 "nbformat_minor": 4
}
